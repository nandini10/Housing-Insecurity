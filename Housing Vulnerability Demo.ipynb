{
 "cells": [
  {
   "cell_type": "code",
   "execution_count": null,
   "metadata": {},
   "outputs": [],
   "source": [
    "import housing_cluster_visualisations\n",
    "import employment_hotspots\n",
    "import housing_insecurity as housing_helper\n",
    "from helper_functions import ACS_helper"
   ]
  },
  {
   "cell_type": "code",
   "execution_count": null,
   "metadata": {},
   "outputs": [],
   "source": [
    "import pickle\n",
    "import os\n",
    "import json"
   ]
  },
  {
   "cell_type": "markdown",
   "metadata": {},
   "source": [
    "# TODO: Add your [Census API Key](sus.gov/data/key_signup.html)"
   ]
  },
  {
   "cell_type": "code",
   "execution_count": null,
   "metadata": {},
   "outputs": [],
   "source": [
    "census_key = #### ADD YOUR CENSUS API KEY HERE"
   ]
  },
  {
   "cell_type": "markdown",
   "metadata": {},
   "source": [
    "# Clustering Census Tracts based on Housing Insecurity"
   ]
  },
  {
   "cell_type": "markdown",
   "metadata": {},
   "source": [
    "## Creating input for US cities\n",
    "\n",
    "city:_city name_   \n",
    "state_abbrv:_state abbreviation (lower case)_  \n",
    "state:_state name_  \n",
    "state_fips:_FIPS code for state_  \n",
    "counties:[_list of FIPS codes for all counties in city_]\n",
    "\n",
    "## Example:\n",
    "city:boston  \n",
    "state_abbrv:ma  \n",
    "state:massachusetts  \n",
    "state_fips:25  \n",
    "counties:['025']  "
   ]
  },
  {
   "cell_type": "markdown",
   "metadata": {},
   "source": [
    "### The following cities are those that have data in ```data/input/< city >_input.txt```"
   ]
  },
  {
   "cell_type": "code",
   "execution_count": null,
   "metadata": {},
   "outputs": [],
   "source": [
    "cities = ['jacksonville',\n",
    " 'new_york_city',\n",
    " 'las_vegas',\n",
    " 'albuquerque',\n",
    " 'hartford',\n",
    " 'phoenix',\n",
    " 'greenville',\n",
    " 'dallas',\n",
    " 'st_louis',\n",
    " 'bridgeport',\n",
    " 'columbus',\n",
    " 'charleston',\n",
    " 'kansas_city',\n",
    " 'gainesville',\n",
    " 'fort_worth',\n",
    " 'houston',\n",
    " 'san_francisco',\n",
    " 'cleveland',\n",
    " 'new_orleans',\n",
    " 'boston',\n",
    " 'philadelphia',\n",
    " 'cincinnati',\n",
    " 'memphis',\n",
    " 'milwaukee']"
   ]
  },
  {
   "cell_type": "code",
   "execution_count": null,
   "metadata": {},
   "outputs": [],
   "source": []
  },
  {
   "cell_type": "markdown",
   "metadata": {},
   "source": [
    "## Eviction data for these cities is provided by The Eviction Lab and can be found in ```data/eviction_lab_data.csv```"
   ]
  },
  {
   "cell_type": "code",
   "execution_count": null,
   "metadata": {},
   "outputs": [],
   "source": [
    "evictions_df = {city:None for city in cities}"
   ]
  },
  {
   "cell_type": "markdown",
   "metadata": {},
   "source": [
    "### ```housing_insecurity.py``` consists of four steps:\n",
    "1. Download relevant housing characteristics from US Census\n",
    "2. Nested\n",
    "    * By default, downloads ACS 5-Year Estimates from 2020  \n",
    "3. Preprocess housing and eviction data\n",
    "    * If eviction data frame is not passed, filters Eviction Lab data to only include tract-level evictions for the focal city \n",
    "    * Removes census tracts that either...\n",
    "        + Have a reported population of 0\n",
    "        + Have at least one feature pertaining to Housing Affordability dimensions (Rent Burden, Mortgage, Housing Stock)\n",
    "    * Standardise housing data\n",
    "    * Apply spectral clustering\n",
    "        + Estimate appropriate number of clusters using spectral gap of eigenvalues\n",
    "        + Rank clusters based on median values of housing characteristics\n",
    "        + Partition clusters into 3 groups: less, mildly, and most vulnerable to housing insecurity\n",
    "    "
   ]
  },
  {
   "cell_type": "code",
   "execution_count": null,
   "metadata": {
    "scrolled": true
   },
   "outputs": [],
   "source": [
    "for city in cities:\n",
    "    print(city)\n",
    "    input_path = 'data/input/'+city+'_input.txt'\n",
    "    \n",
    "    housing_helper.main([census_key, input_path, evictions_df[city]])"
   ]
  },
  {
   "cell_type": "markdown",
   "metadata": {},
   "source": [
    "## Once your housing clusters have been generated and saved to the ```housing clusters/``` directory, we can visualise our results"
   ]
  },
  {
   "cell_type": "code",
   "execution_count": null,
   "metadata": {
    "scrolled": true
   },
   "outputs": [],
   "source": [
    "save_viz = True\n",
    "for city in (cities):\n",
    "    print(city)\n",
    "    input_path = 'data/input/'+city+'_input.txt'\n",
    "    housing_cluster_visualisations.main([census_key, input_path, None, save_viz])"
   ]
  },
  {
   "cell_type": "markdown",
   "metadata": {},
   "source": [
    "## Finally, we can use the LEHD-Origin Destination Employment Statistics data to identify employment hotspots for each housing demographic"
   ]
  },
  {
   "cell_type": "code",
   "execution_count": null,
   "metadata": {},
   "outputs": [],
   "source": [
    "cities = [f[:-4] for f in os.listdir('housing_clusters/') if 'ipynb' not in f]\n",
    "for city in cities:\n",
    "    input_path = 'data/input/'+city+'_input.txt'\n",
    "\n",
    "    gsa,lsa = employment_hotspots.main([census_key, input_path])"
   ]
  },
  {
   "cell_type": "code",
   "execution_count": null,
   "metadata": {},
   "outputs": [],
   "source": []
  }
 ],
 "metadata": {
  "kernelspec": {
   "display_name": "Python transport",
   "language": "python",
   "name": "transport"
  },
  "language_info": {
   "codemirror_mode": {
    "name": "ipython",
    "version": 3
   },
   "file_extension": ".py",
   "mimetype": "text/x-python",
   "name": "python",
   "nbconvert_exporter": "python",
   "pygments_lexer": "ipython3",
   "version": "3.6.13"
  }
 },
 "nbformat": 4,
 "nbformat_minor": 4
}
